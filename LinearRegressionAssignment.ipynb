{
 "cells": [
  {
   "cell_type": "code",
   "execution_count": 1,
   "id": "13b84f17",
   "metadata": {},
   "outputs": [],
   "source": [
    "#importing the libraries\n",
    "import pandas as pd\n",
    "import numpy as np\n",
    "import matplotlib.pyplot as plt\n",
    "import seaborn as sns\n",
    "import sklearn\n",
    "%matplotlib inline"
   ]
  },
  {
   "cell_type": "code",
   "execution_count": 3,
   "id": "eb3a8963",
   "metadata": {},
   "outputs": [
    {
     "data": {
      "text/html": [
       "<div>\n",
       "<style scoped>\n",
       "    .dataframe tbody tr th:only-of-type {\n",
       "        vertical-align: middle;\n",
       "    }\n",
       "\n",
       "    .dataframe tbody tr th {\n",
       "        vertical-align: top;\n",
       "    }\n",
       "\n",
       "    .dataframe thead th {\n",
       "        text-align: right;\n",
       "    }\n",
       "</style>\n",
       "<table border=\"1\" class=\"dataframe\">\n",
       "  <thead>\n",
       "    <tr style=\"text-align: right;\">\n",
       "      <th></th>\n",
       "      <th>age</th>\n",
       "      <th>bmi</th>\n",
       "      <th>children</th>\n",
       "      <th>smoker</th>\n",
       "      <th>charges</th>\n",
       "    </tr>\n",
       "  </thead>\n",
       "  <tbody>\n",
       "    <tr>\n",
       "      <th>0</th>\n",
       "      <td>19</td>\n",
       "      <td>27.900</td>\n",
       "      <td>0</td>\n",
       "      <td>yes</td>\n",
       "      <td>16884.92400</td>\n",
       "    </tr>\n",
       "    <tr>\n",
       "      <th>1</th>\n",
       "      <td>18</td>\n",
       "      <td>33.770</td>\n",
       "      <td>1</td>\n",
       "      <td>no</td>\n",
       "      <td>1725.55230</td>\n",
       "    </tr>\n",
       "    <tr>\n",
       "      <th>2</th>\n",
       "      <td>28</td>\n",
       "      <td>33.000</td>\n",
       "      <td>3</td>\n",
       "      <td>no</td>\n",
       "      <td>4449.46200</td>\n",
       "    </tr>\n",
       "    <tr>\n",
       "      <th>3</th>\n",
       "      <td>33</td>\n",
       "      <td>22.705</td>\n",
       "      <td>0</td>\n",
       "      <td>no</td>\n",
       "      <td>21984.47061</td>\n",
       "    </tr>\n",
       "    <tr>\n",
       "      <th>4</th>\n",
       "      <td>32</td>\n",
       "      <td>28.880</td>\n",
       "      <td>0</td>\n",
       "      <td>no</td>\n",
       "      <td>3866.85520</td>\n",
       "    </tr>\n",
       "  </tbody>\n",
       "</table>\n",
       "</div>"
      ],
      "text/plain": [
       "   age     bmi  children smoker      charges\n",
       "0   19  27.900         0    yes  16884.92400\n",
       "1   18  33.770         1     no   1725.55230\n",
       "2   28  33.000         3     no   4449.46200\n",
       "3   33  22.705         0     no  21984.47061\n",
       "4   32  28.880         0     no   3866.85520"
      ]
     },
     "execution_count": 3,
     "metadata": {},
     "output_type": "execute_result"
    }
   ],
   "source": [
    "#Importing data and setting x and y variables\n",
    "insurance = pd.read_csv('insuranceData.csv')\n",
    "X = insurance.iloc[:, :-1].values\n",
    "y = insurance.iloc[:,4].values\n",
    "\n",
    "insurance.head()"
   ]
  },
  {
   "cell_type": "code",
   "execution_count": 20,
   "id": "4849ea10",
   "metadata": {},
   "outputs": [
    {
     "data": {
      "text/plain": [
       "<AxesSubplot:>"
      ]
     },
     "execution_count": 20,
     "metadata": {},
     "output_type": "execute_result"
    },
    {
     "data": {
      "image/png": "[encoded data removed]",
      "text/plain": [
       "<Figure size 432x288 with 2 Axes>"
      ]
     },
     "metadata": {
      "needs_background": "light"
     },
     "output_type": "display_data"
    }
   ],
   "source": [
    "#Data Visualization\n",
    "#Building the Correlation matrix\n",
    "sns.heatmap(insurance.corr())\n",
    "#correlations between variables are generally low"
   ]
  },
  {
   "cell_type": "code",
   "execution_count": 5,
   "id": "737b68a1",
   "metadata": {},
   "outputs": [
    {
     "ename": "TypeError",
     "evalue": "__init__() got an unexpected keyword argument 'categorical_features'",
     "output_type": "error",
     "traceback": [
      "\u001b[1;31m---------------------------------------------------------------------------\u001b[0m",
      "\u001b[1;31mTypeError\u001b[0m                                 Traceback (most recent call last)",
      "\u001b[1;32m~\\AppData\\Local\\Temp/ipykernel_64304/2231535520.py\u001b[0m in \u001b[0;36m<module>\u001b[1;34m\u001b[0m\n\u001b[0;32m      4\u001b[0m \u001b[0mX\u001b[0m\u001b[1;33m[\u001b[0m\u001b[1;33m:\u001b[0m\u001b[1;33m,\u001b[0m\u001b[1;36m3\u001b[0m\u001b[1;33m]\u001b[0m \u001b[1;33m=\u001b[0m \u001b[0mlabelencoder\u001b[0m\u001b[1;33m.\u001b[0m\u001b[0mfit_transform\u001b[0m\u001b[1;33m(\u001b[0m\u001b[0mX\u001b[0m\u001b[1;33m[\u001b[0m\u001b[1;33m:\u001b[0m\u001b[1;33m,\u001b[0m\u001b[1;36m3\u001b[0m\u001b[1;33m]\u001b[0m\u001b[1;33m)\u001b[0m\u001b[1;33m\u001b[0m\u001b[1;33m\u001b[0m\u001b[0m\n\u001b[0;32m      5\u001b[0m \u001b[1;33m\u001b[0m\u001b[0m\n\u001b[1;32m----> 6\u001b[1;33m \u001b[0monehotencoder\u001b[0m \u001b[1;33m=\u001b[0m \u001b[0mOneHotEncoder\u001b[0m\u001b[1;33m(\u001b[0m\u001b[0mcategorical_features\u001b[0m \u001b[1;33m=\u001b[0m \u001b[1;33m[\u001b[0m\u001b[1;36m3\u001b[0m\u001b[1;33m]\u001b[0m\u001b[1;33m)\u001b[0m\u001b[1;33m\u001b[0m\u001b[1;33m\u001b[0m\u001b[0m\n\u001b[0m\u001b[0;32m      7\u001b[0m \u001b[0mX\u001b[0m \u001b[1;33m=\u001b[0m \u001b[0monehotencoder\u001b[0m\u001b[1;33m.\u001b[0m\u001b[0mfit_transform\u001b[0m\u001b[1;33m(\u001b[0m\u001b[0mX\u001b[0m\u001b[1;33m)\u001b[0m\u001b[1;33m.\u001b[0m\u001b[0mtoarray\u001b[0m\u001b[1;33m(\u001b[0m\u001b[1;33m)\u001b[0m\u001b[1;33m\u001b[0m\u001b[1;33m\u001b[0m\u001b[0m\n\u001b[0;32m      8\u001b[0m \u001b[0mprint\u001b[0m\u001b[1;33m(\u001b[0m\u001b[0mX\u001b[0m\u001b[1;33m)\u001b[0m\u001b[1;33m\u001b[0m\u001b[1;33m\u001b[0m\u001b[0m\n",
      "\u001b[1;32m~\\anaconda3\\lib\\site-packages\\sklearn\\utils\\validation.py\u001b[0m in \u001b[0;36minner_f\u001b[1;34m(*args, **kwargs)\u001b[0m\n\u001b[0;32m     61\u001b[0m             \u001b[0mextra_args\u001b[0m \u001b[1;33m=\u001b[0m \u001b[0mlen\u001b[0m\u001b[1;33m(\u001b[0m\u001b[0margs\u001b[0m\u001b[1;33m)\u001b[0m \u001b[1;33m-\u001b[0m \u001b[0mlen\u001b[0m\u001b[1;33m(\u001b[0m\u001b[0mall_args\u001b[0m\u001b[1;33m)\u001b[0m\u001b[1;33m\u001b[0m\u001b[1;33m\u001b[0m\u001b[0m\n\u001b[0;32m     62\u001b[0m             \u001b[1;32mif\u001b[0m \u001b[0mextra_args\u001b[0m \u001b[1;33m<=\u001b[0m \u001b[1;36m0\u001b[0m\u001b[1;33m:\u001b[0m\u001b[1;33m\u001b[0m\u001b[1;33m\u001b[0m\u001b[0m\n\u001b[1;32m---> 63\u001b[1;33m                 \u001b[1;32mreturn\u001b[0m \u001b[0mf\u001b[0m\u001b[1;33m(\u001b[0m\u001b[1;33m*\u001b[0m\u001b[0margs\u001b[0m\u001b[1;33m,\u001b[0m \u001b[1;33m**\u001b[0m\u001b[0mkwargs\u001b[0m\u001b[1;33m)\u001b[0m\u001b[1;33m\u001b[0m\u001b[1;33m\u001b[0m\u001b[0m\n\u001b[0m\u001b[0;32m     64\u001b[0m \u001b[1;33m\u001b[0m\u001b[0m\n\u001b[0;32m     65\u001b[0m             \u001b[1;31m# extra_args > 0\u001b[0m\u001b[1;33m\u001b[0m\u001b[1;33m\u001b[0m\u001b[0m\n",
      "\u001b[1;31mTypeError\u001b[0m: __init__() got an unexpected keyword argument 'categorical_features'"
     ]
    }
   ],
   "source": [
    "#Encoding categorical data\n",
    "from sklearn import preprocessing\n",
    "from sklearn.preprocessing import LabelEncoder, OneHotEncoder\n",
    "labelencoder = LabelEncoder()\n",
    "X[:,3] = labelencoder.fit_transform(X[:,3])\n",
    "\n",
    "onehotencoder = OneHotEncoder(categorical_features = [3])\n",
    "X = onehotencoder.fit_transform(X).toarray()\n"
   ]
  },
  {
   "cell_type": "code",
   "execution_count": 11,
   "id": "94a59317",
   "metadata": {},
   "outputs": [
    {
     "name": "stdout",
     "output_type": "stream",
     "text": [
      "[19 27.9 0 1]\n"
     ]
    }
   ],
   "source": [
    "print(X[0])"
   ]
  },
  {
   "cell_type": "code",
   "execution_count": 12,
   "id": "8b91297a",
   "metadata": {},
   "outputs": [],
   "source": [
    "#Avoiding the Dummy variable trap\n",
    "X = X[:,1:]"
   ]
  },
  {
   "cell_type": "code",
   "execution_count": 13,
   "id": "a0e6738a",
   "metadata": {},
   "outputs": [],
   "source": [
    "#Splitting the dataset into the training set and test set\n",
    "from sklearn.model_selection import train_test_split\n",
    "X_train, X_test, y_train, y_test = train_test_split(X, y, test_size = .15, random_state = 0)"
   ]
  },
  {
   "cell_type": "code",
   "execution_count": 14,
   "id": "c4f8efa0",
   "metadata": {},
   "outputs": [
    {
     "data": {
      "text/plain": [
       "LinearRegression()"
      ]
     },
     "execution_count": 14,
     "metadata": {},
     "output_type": "execute_result"
    }
   ],
   "source": [
    "#Fitting multiple linear regression to the training set\n",
    "from sklearn.linear_model import LinearRegression\n",
    "regressor = LinearRegression()\n",
    "regressor.fit(X_train, y_train)"
   ]
  },
  {
   "cell_type": "code",
   "execution_count": 15,
   "id": "9f5581a4",
   "metadata": {},
   "outputs": [
    {
     "name": "stdout",
     "output_type": "stream",
     "text": [
      "[ 8205.14996618  7890.57790224 36010.90090104 10736.64229389\n",
      "  3031.52173988  4291.70500806  6163.97729221 11686.77637274\n",
      "  9346.43601755  9670.48314365  5097.81814197  7265.46808248\n",
      "  8091.44922018  5404.07730644 30300.73987285  8569.48091987\n",
      "  5407.8673313   9073.06566065  8417.63564196 31128.86030623\n",
      " 30034.03168625 10145.88698118  7892.22863143 30046.80820679\n",
      "  8989.44083034 10909.33270857  2743.47985001 10403.85295536\n",
      "  5946.05086238  8885.703713    8770.35223781 35660.07931762\n",
      " 10365.21985695 10327.31960828 27276.30002923  6776.06630818\n",
      " 11794.54779819 33863.6075308  33058.47152987  8811.3096616\n",
      "  3715.62122832  6779.85633305 29508.62467571 34642.70192416\n",
      " 33465.41063655  9713.82414637  8444.41009927  6732.72530546\n",
      "  5076.48443871  5847.75449909  9404.44855324  8482.31034794\n",
      " 30679.98664277 35247.45517364 12074.52107183  9620.47997064\n",
      "  9614.79493334  6199.98252844  8706.41038157  5976.61534456\n",
      "  7067.89822292 32907.11481845 10445.54322889  9569.80320144\n",
      " 11967.48249612 11729.87309221 30963.99422453 34239.3085591\n",
      "  5624.3873152  10167.22068444  6878.39697958  7348.6043463\n",
      " 29845.93688885 10156.76848928  5299.8516226   6632.04536325\n",
      "  4642.28230823  8959.6091979  29753.32556286 33825.70728214\n",
      "  7100.11343429 37009.08388692  8360.29670246  8205.14996618\n",
      " 33317.84395    30225.42794201 12828.98030355  7964.23910389\n",
      "  7181.84325217 32877.95678221 11974.81826261  7522.70120692\n",
      " 11852.80461713  7875.66208602  9332.43808077  8713.01329832\n",
      " 31128.86030623 32082.5401267   9749.82938261 11464.32706829\n",
      "  8530.84782147  9577.13896792  9835.10494211 32548.22461881\n",
      " 31934.97344014  4327.71024429  4566.4818109   9368.44331701\n",
      "  9404.44855324 31930.45056554  6033.95428405 14087.51284255\n",
      "  7704.86668377 31524.9179048  36035.29177942  7229.46284625\n",
      "  5097.32957548  6271.99300091 10820.2671242   7654.18991457\n",
      " 34838.13248804  3139.53744858 11236.92557629 12082.83397131\n",
      "  7181.84325217  4997.13819976 29969.35698027 29313.92696157\n",
      " 34621.3682209  10160.55851415  8626.08700963  9558.18884359\n",
      "  8390.86118465  4687.76260663 30869.24360286 31172.4455922\n",
      " 28837.79027431  6249.74141821 28739.49391102  7128.78290403\n",
      "  8288.28623     6668.05059948 11544.40615699  8612.3333561\n",
      "  6336.66770689  9823.24630101 10600.44568193  6113.300523\n",
      "  4435.72595299  6408.67817936  7092.7776678  35466.54376617\n",
      "  9001.05518818  8140.71954344 11773.45837818  8057.33899638\n",
      "  8641.00282585  7890.57790224  8554.32082041 10750.64023066\n",
      " 10246.56692339 11324.09614823  5983.95111104 11805.67358954\n",
      "  3967.65788196 11211.37253521 27723.5229635   9454.45172625\n",
      "  6948.75672287 11282.40587469  9893.85032754  7553.50997235\n",
      "  8957.71418546  9781.55602748  9380.54624135 11222.74260981\n",
      "  5861.26386937  5040.47920248 32511.05721988  6091.96681974\n",
      "  9353.77178404  9598.47267118  9080.40142714  8947.7505568\n",
      "  5825.25863313 29616.64038441  8216.27575753  6764.94051683\n",
      "  8684.34382857  9965.86080001 31560.92314103  8667.77728316\n",
      "  6575.43927349 28754.40972724  9692.49044311  5968.79101158\n",
      "  8633.66705936 11650.7711365  11461.02560992  7596.85097507\n",
      "  9001.05518818]\n"
     ]
    }
   ],
   "source": [
    "#Predicting the test set results\n",
    "y_pred = regressor.predict(X_test)\n",
    "print(y_pred)"
   ]
  },
  {
   "cell_type": "code",
   "execution_count": 16,
   "id": "950b03db",
   "metadata": {},
   "outputs": [
    {
     "name": "stdout",
     "output_type": "stream",
     "text": [
      "[  379.00248667   568.74801325 23308.64214727]\n"
     ]
    }
   ],
   "source": [
    "#Calculating the Coefficients \n",
    "print(regressor.coef_)"
   ]
  },
  {
   "cell_type": "code",
   "execution_count": 17,
   "id": "f3e7fd95",
   "metadata": {},
   "outputs": [
    {
     "name": "stdout",
     "output_type": "stream",
     "text": [
      "-3809.4731445180187\n"
     ]
    }
   ],
   "source": [
    "#Calculating the intercept\n",
    "print(regressor.intercept_)"
   ]
  },
  {
   "cell_type": "code",
   "execution_count": 18,
   "id": "f8e224f0",
   "metadata": {},
   "outputs": [
    {
     "data": {
      "text/plain": [
       "0.7029041544100425"
      ]
     },
     "execution_count": 18,
     "metadata": {},
     "output_type": "execute_result"
    }
   ],
   "source": [
    "#Calculating the R squared value\n",
    "from sklearn.metrics import r2_score\n",
    "r2_score(y_test, y_pred)"
   ]
  },
  {
   "cell_type": "code",
   "execution_count": null,
   "id": "b65cd8c7",
   "metadata": {},
   "outputs": [],
   "source": [
    "#The r2 value suggests the model is not a great model for the data "
   ]
  }
 ],
 "metadata": {
  "kernelspec": {
   "display_name": "Python 3 (ipykernel)",
   "language": "python",
   "name": "python3"
  },
  "language_info": {
   "codemirror_mode": {
    "name": "ipython",
    "version": 3
   },
   "file_extension": ".py",
   "mimetype": "text/x-python",
   "name": "python",
   "nbconvert_exporter": "python",
   "pygments_lexer": "ipython3",
   "version": "3.9.7"
  }
 },
 "nbformat": 4,
 "nbformat_minor": 5
}
